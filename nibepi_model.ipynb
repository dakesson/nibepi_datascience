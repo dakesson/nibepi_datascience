{
 "cells": [
  {
   "cell_type": "markdown",
   "metadata": {},
   "source": [
    "## Nibe pi LSTM network\n",
    "Reads data from HA database and trains a LSTM net"
   ]
  },
  {
   "cell_type": "markdown",
   "metadata": {},
   "source": [
    "### Python's SQLite3 support\n"
   ]
  },
  {
   "cell_type": "markdown",
   "metadata": {},
   "source": [
    "This access method is very simple and perfect if you want to have a quick look at your data."
   ]
  },
  {
   "cell_type": "code",
   "execution_count": 405,
   "metadata": {},
   "outputs": [],
   "source": [
    "import sqlite3\n",
    "import pandas as pd\n",
    "\n",
    "import matplotlib.pyplot as plt\n",
    "import numpy as np\n",
    "import pytz\n",
    "from pytz import timezone\n",
    "import copy\n",
    "from math import sqrt\n",
    "from pysolar.solar import *\n",
    "import datetime\n",
    "\n",
    "import sklearn as sk\n",
    "from sklearn.preprocessing import MinMaxScaler\n",
    "from sklearn.preprocessing import LabelEncoder\n",
    "from sklearn.metrics import mean_squared_error\n",
    "from sklearn.metrics import mean_absolute_error\n",
    "from keras.models import Sequential\n",
    "from keras.layers import Dense\n",
    "from keras.layers import LSTM\n",
    "from keras.layers import Flatten\n",
    "from keras.layers import Dropout\n",
    "from keras.layers import LeakyReLU\n",
    "from keras.callbacks import EarlyStopping\n",
    "from keras.optimizers import Adam\n",
    "from keras import losses"
   ]
  },
  {
   "cell_type": "code",
   "execution_count": 406,
   "metadata": {},
   "outputs": [],
   "source": [
    "import warnings\n",
    "warnings.filterwarnings('ignore')"
   ]
  },
  {
   "cell_type": "code",
   "execution_count": 407,
   "metadata": {},
   "outputs": [],
   "source": [
    "import mlflow.keras\n",
    "\n",
    "mlflow.keras.autolog()\n",
    "mlflow.set_tracking_uri('http://192.168.1.4:5000/')\n",
    "mlflow.set_experiment(\"nibe\")\n"
   ]
  },
  {
   "cell_type": "code",
   "execution_count": 408,
   "metadata": {},
   "outputs": [],
   "source": [
    "latitude_deg = 55.6915 # positive in the northern hemisphere\n",
    "longitude_deg = 13.230412 # negative reckoning west from prime meridian in Greenwich, England\n",
    "futureSteps = 3\n",
    "timestep = '60T'\n",
    "scaler = sk.preprocessing.MinMaxScaler()"
   ]
  },
  {
   "cell_type": "markdown",
   "metadata": {},
   "source": [
    "Create a connection to the database."
   ]
  },
  {
   "cell_type": "code",
   "execution_count": 409,
   "metadata": {},
   "outputs": [],
   "source": [
    "conn = sqlite3.connect('/home/homeassistant/.homeassistant/home-assistant_v2.db')"
   ]
  },
  {
   "cell_type": "code",
   "execution_count": 410,
   "metadata": {},
   "outputs": [],
   "source": [
    "def getDataFrame(sensor, mean=False):\n",
    "    df = pd.read_sql_query(\"SELECT state, last_changed FROM states WHERE entity_id = 'sensor.\" + sensor + \"' AND state != 'unknown'\", conn,index_col='last_changed', parse_dates=['last_changed'])\n",
    "    df['state'] = df['state'].astype(float)\n",
    "    if mean:\n",
    "        df = df.resample(timestep).mean()\n",
    "    else:\n",
    "        df = df.resample(timestep).last()\n",
    "\n",
    "    df = df.fillna(method='ffill')\n",
    "    return df\n",
    "\n"
   ]
  },
  {
   "cell_type": "code",
   "execution_count": 411,
   "metadata": {},
   "outputs": [],
   "source": [
    "#Group weathersymbols according to how much sun (yr.no)\n",
    "def updateWeather(dfWeatherSymbol):\n",
    "    resArray = []\n",
    "    sunIcons = [[1],[2],[3,40,5,41,42,7,43,44,8,45,24,6,25,26,20,27,28,21,29],[10,11,12,13,14,15,22,23,30,31,32,33,34,46,47,48,49,50,4,9]]\n",
    "    for icon in dfWeatherSymbol['state']:\n",
    "        res = -1\n",
    "        for i in range(4):\n",
    "            if icon in sunIcons[i]:\n",
    "                resArray.append(4-i)\n",
    "\n",
    "    dfWeatherSymbol['state'] = resArray\n",
    "    return dfWeatherSymbol"
   ]
  },
  {
   "cell_type": "code",
   "execution_count": 412,
   "metadata": {},
   "outputs": [],
   "source": [
    "def getInitialDataFrame():\n",
    "    dfIndoor = getDataFrame('downstairs_temperature')\n",
    "    dfOutdoor = getDataFrame('outdoor_temperature')\n",
    "    dfWeatherSymbol = updateWeather(getDataFrame('current_weather_symbol'))\n",
    "    dfPercipitation = getDataFrame('current_weather_precipitation')\n",
    "    dfWind = getDataFrame('current_weather_wind_speed')\n",
    "    dfCalculatedSupply = getDataFrame('nibe_calculated_supply_temperature', mean=True)\n",
    "    dfSupply = getDataFrame('nibe_supply_temperature', mean=True)\n",
    "    dfReturn = getDataFrame('nibe_return_temperature', mean=True)\n",
    "    dfDT = dfSupply['state'] - dfReturn['state']\n",
    "\n",
    "    df = pd.DataFrame({'Indoor':dfIndoor['state'],\n",
    "            'IndoorDT':dfIndoor['state'].diff(),\n",
    "            'Outdoor':dfOutdoor['state'],\n",
    "            'Weather':dfWeatherSymbol['state'],\n",
    "#            'Rain':dfPercipitation['state'],\n",
    "#            'Wind':dfWind['state'],\n",
    "            'CalculatedSupplyTemp':dfCalculatedSupply['state'],\n",
    "            'SupplyTemp':dfSupply['state'],\n",
    "            'dT':dfDT\n",
    "           })\n",
    "    \n",
    "    df = appendSolarFeature(df)\n",
    "    df = appendPrevious(df, 'Indoor',3)\n",
    "    df = appendPrevious(df, 'IndoorDT',3)\n",
    "    df = appendPrevious(df, 'Outdoor',2)\n",
    "    df = appendPrevious(df, 'Weather',2)\n",
    "    df = appendPrevious(df, 'dT',2 )\n",
    "    df = appendWeatherForcast(df)\n",
    "    df = appendPrevious(df, 'CalculatedSupplyTemp',2)\n",
    "    df = appendFuture(df, 'CalculatedSupplyTemp', 2)\n",
    "    df = df.reindex(sorted(df.columns), axis=1)\n",
    "\n",
    "    #Indoor temp must be last, used for training\n",
    "    df = appendFuture(df, 'Indoor')\n",
    "\n",
    "    df = df.fillna(method='ffill')\n",
    "    return df\n"
   ]
  },
  {
   "cell_type": "code",
   "execution_count": 413,
   "metadata": {},
   "outputs": [],
   "source": [
    "#Get sun radiation\n",
    "def appendSolarFeature(df):\n",
    "    sunRadiationList = list()\n",
    "    altitudeList = list()\n",
    "    timeList = list()\n",
    "\n",
    "    for date in df.index:\n",
    "        localDate = pytz.utc.localize(date)\n",
    "        altitude_deg = get_altitude(latitude_deg, longitude_deg, localDate)\n",
    "        sunRadiationList.append(radiation.get_radiation_direct(date, altitude_deg))\n",
    "\n",
    "        if altitude_deg < 0:\n",
    "            altitude_deg = 0\n",
    "        altitudeList.append(altitude_deg)\n",
    "        \n",
    "        seconds  = (localDate - localDate.replace(hour=0, minute=0, second=0, microsecond=0)).total_seconds()\n",
    "        timeList.append(seconds)\n",
    "\n",
    "    df['SunRadiation'] = sunRadiationList\n",
    "    #df['SunAltitude'] =  altitudeList\n",
    "    df['time'] = timeList\n",
    "    return df"
   ]
  },
  {
   "cell_type": "code",
   "execution_count": 414,
   "metadata": {},
   "outputs": [],
   "source": [
    "def appendWeatherForcast(df):\n",
    "    dfTempForcastT1 = getDataFrame('weather_1_temperature')\n",
    "    dfTempForcastT2 = getDataFrame('weather_2_temperature')\n",
    "    dfTempForcastT3 = getDataFrame('weather_3_temperature')\n",
    "\n",
    "    dfSymbolForcastT1 = updateWeather(getDataFrame('weather_1_symbol'))\n",
    "    dfSymbolForcastT2 = updateWeather(getDataFrame('weather_2_symbol'))\n",
    "    dfSymbolForcastT3 = updateWeather(getDataFrame('weather_3_symbol'))\n",
    "    \n",
    "    dfWindForecastT1 = getDataFrame('weather_1_wind_speed')\n",
    "    dfWindForecastT2 = getDataFrame('weather_2_wind_speed')\n",
    "        \n",
    "    dataForecast = pd.DataFrame({\n",
    "        'TempForcast1':dfTempForcastT1['state'],\n",
    "        'TempForcast2':dfTempForcastT2['state'],\n",
    "#        'TempForcast3':dfTempForcastT3['state'],\n",
    "        'WeatherForcast1':dfSymbolForcastT1['state'],\n",
    "        'WeatherForcast2':dfSymbolForcastT2['state'],\n",
    "#        'WeatherForcast3':dfSymbolForcastT3['state']\n",
    "        'WindForcast1':dfWindForecastT1['state'],\n",
    "#        'WindForcast2':dfWindForecastT2['state']\n",
    "    })\n",
    "\n",
    "    df = pd.concat([dataForecast, df], axis=1)\n",
    "    df = df.fillna(method='ffill')\n",
    "    return df"
   ]
  },
  {
   "cell_type": "code",
   "execution_count": 415,
   "metadata": {},
   "outputs": [],
   "source": [
    "def appendPrevious(df, column, steps = 2):\n",
    "    for i in range(1, steps + 1):\n",
    "        df[column + 'T-' + str(i)] = df[column].shift(i)\n",
    "    return df"
   ]
  },
  {
   "cell_type": "code",
   "execution_count": 416,
   "metadata": {},
   "outputs": [],
   "source": [
    "def appendFuture(df, column, steps = futureSteps):\n",
    "    for i in range(1, steps + 1):\n",
    "        df[column + 'T+' + str(i)] = df[column].shift(-i)\n",
    "    return df"
   ]
  },
  {
   "cell_type": "code",
   "execution_count": 417,
   "metadata": {},
   "outputs": [],
   "source": [
    "#Use to find features to remove\n",
    "def findFeaturesToRemove(df):\n",
    "    current = train(df, hidden=55, nepochs=135)\n",
    "    print(current)\n",
    "    while True:\n",
    "        dropcol = \"\"\n",
    "        newdf = copy.deepcopy(df)\n",
    "        for col in newdf.columns[:-futureSteps]:\n",
    "            testdf = copy.deepcopy(newdf)\n",
    "            testdf.drop(columns=col)\n",
    "            result = train(testdf, hidden=55, nepochs=135)\n",
    "            print(col + \" \" + str(result))\n",
    "\n",
    "            if result < current:\n",
    "                current = result\n",
    "                dropcol = col\n",
    "                print(\"HIT!\")\n",
    "\n",
    "        print(\"---------------------\\n\" + str(current) + \" \" + dropcol)\n",
    "\n",
    "        if dropcol == \"\":\n",
    "            return newdf\n",
    "        else:\n",
    "            newdf.drop(columns=dropcol)"
   ]
  },
  {
   "cell_type": "code",
   "execution_count": 418,
   "metadata": {},
   "outputs": [],
   "source": [
    "def normalizeDF(df):\n",
    "    x = df.values\n",
    "    x_scaled = scaler.fit_transform(x)\n",
    "    df.values[:,:] = x_scaled\n",
    "    return df"
   ]
  },
  {
   "cell_type": "code",
   "execution_count": 419,
   "metadata": {},
   "outputs": [],
   "source": [
    "def splitData(df):\n",
    "    # split into train and test sets\n",
    "    values = df.values\n",
    "    n_train_hours = int(len(values)*0.7)\n",
    "    train = values[:n_train_hours, :]\n",
    "    test = values[n_train_hours:, :]\n",
    "    # split into input and outputs\n",
    "    train_X, train_y = train[:, :-futureSteps], train[:, -futureSteps:]\n",
    "    test_X, test_y = test[:, :-futureSteps], test[:, -futureSteps:]\n",
    "    # reshape input to be 3D [samples, timesteps, features]\n",
    "    train_X = train_X.reshape((train_X.shape[0], 1, train_X.shape[1]))\n",
    "    test_X = test_X.reshape((test_X.shape[0], 1, test_X.shape[1]))\n",
    "    return train_X, test_X, train_y, test_y"
   ]
  },
  {
   "cell_type": "code",
   "execution_count": 420,
   "metadata": {},
   "outputs": [],
   "source": [
    "def makePrediction(model, test_x):\n",
    "    # make a prediction\n",
    "    yhat = model.predict(test_x)\n",
    "    test_X2 = test_x.reshape((test_x.shape[0], test_x.shape[2]))\n",
    "\n",
    "    # invert scaling for forecast\n",
    "    inv_yhat = np.concatenate((test_X2, yhat), axis=1)\n",
    "    inv_yhat = scaler.inverse_transform(inv_yhat)\n",
    "\n",
    "    # invert scaling for actual\n",
    "    test_y2 = test_y.reshape((test_y.shape[0], test_y.shape[1]))\n",
    "    inv_y = np.concatenate((test_X2,test_y2), axis=1)\n",
    "    inv_y = scaler.inverse_transform(inv_y)\n",
    "    \n",
    "    return inv_y, inv_yhat"
   ]
  },
  {
   "cell_type": "code",
   "execution_count": 421,
   "metadata": {},
   "outputs": [],
   "source": [
    "def train(train_x, train_y, test_x, test_y, plot = False, hidden = 50, nepochs = 100, lr=0.0006):\n",
    "\n",
    "    # design network\n",
    "    model = Sequential()\n",
    "    model.add(LSTM(hidden, input_shape=(train_x.shape[1], train_x.shape[2])))\n",
    "#    model.add(LeakyReLU(alpha=0.5))\n",
    "#    model.add(Dropout(0.05))\n",
    "    model.add(Dense(futureSteps))\n",
    "\n",
    "    adam = Adam(lr=lr)\n",
    "    model.compile(loss='mae', optimizer=adam)\n",
    "    \n",
    "    # fit network\n",
    "    es = EarlyStopping(monitor='val_loss', mode='min', patience=50, restore_best_weights=True)\n",
    "    history = model.fit(train_x, train_y, epochs=nepochs, batch_size=32, validation_data=(test_x, test_y), verbose=0, shuffle=False, callbacks=[es])\n",
    "    \n",
    "    return model"
   ]
  },
  {
   "cell_type": "code",
   "execution_count": 422,
   "metadata": {},
   "outputs": [
    {
     "name": "stdout",
     "output_type": "stream",
     "text": [
      "RMSE: 0.34783900969603576\n",
      "Mean absolute error: 0.27524903128413863\n"
     ]
    },
    {
     "data": {
      "image/png": "[encoded data removed]",
      "text/plain": [
       "<Figure size 432x288 with 1 Axes>"
      ]
     },
     "metadata": {
      "needs_background": "light"
     },
     "output_type": "display_data"
    },
    {
     "data": {
      "text/plain": [
       "Text(0.5, 0, 'Hours since start')"
      ]
     },
     "execution_count": 422,
     "metadata": {},
     "output_type": "execute_result"
    },
    {
     "data": {
      "image/png": "[encoded data removed]",
      "text/plain": [
       "<Figure size 432x288 with 1 Axes>"
      ]
     },
     "metadata": {
      "needs_background": "light"
     },
     "output_type": "display_data"
    }
   ],
   "source": [
    "df = getInitialDataFrame()\n",
    "df = df.dropna()\n",
    "\n",
    "#Split data\n",
    "df = normalizeDF(df)\n",
    "train_x, test_x, train_y, test_y = splitData(df)\n",
    "\n",
    "#df = findFeaturesToRemove(df)\n",
    "\n",
    "model = train(train_x, train_y, test_x, test_y, plot=True, hidden=128, nepochs=1000, lr=0.0006)\n",
    "inv_y, inv_yhat = makePrediction(model,test_x)\n",
    "\n",
    "rmse = sqrt(mean_squared_error(inv_y[:,-1], inv_yhat[:,-1]))\n",
    "   \n",
    "    \n",
    "print(\"RMSE: \" + str(rmse))\n",
    "print(\"Mean absolute error: \" + str(mean_absolute_error(inv_y[:,-1], inv_yhat[:,-1])))\n",
    "\n",
    "# plot history\n",
    "plt.plot(history.history['loss'], label='train')\n",
    "plt.plot(history.history['val_loss'], label='test')\n",
    "plt.legend()\n",
    "plt.show()\n",
    "\n",
    "plt.plot(inv_y[:,-1], label='Actual temp')\n",
    "plt.plot(inv_yhat[:,-1], label='Gussed temp 3h')\n",
    "plt.legend()\n",
    "plt.xlabel('Hours since start')\n"
   ]
  },
  {
   "cell_type": "code",
   "execution_count": 403,
   "metadata": {},
   "outputs": [
    {
     "name": "stdout",
     "output_type": "stream",
     "text": [
      "Average temp diff for 3 timesteps: \n",
      "0.3852\n",
      "\n",
      "RMSE from mean: \n",
      "0.20186769850719158\n",
      "\n",
      "Mean absolute error:\n",
      "0.1629832559500343\n"
     ]
    }
   ],
   "source": [
    "\n",
    "#dfDiff = abs(df['Indoor'].diff(3)).dropna()\n",
    "print('Average temp diff for 3 timesteps: \\n' + str(dfDiff.mean()))\n",
    "\n",
    "rmse = sqrt(mean_squared_error(np.ones(df['Indoor'].shape[0])*df['Indoor'].mean(), df['Indoor']))\n",
    "print('\\nRMSE from mean: \\n' + str(rmse))\n",
    "\n",
    "print(\"\\nMean absolute error:\\n\" + str(mean_absolute_error(np.ones(df['Indoor'].shape[0])*df['Indoor'].mean(), df['Indoor'])))"
   ]
  },
  {
   "cell_type": "code",
   "execution_count": 404,
   "metadata": {},
   "outputs": [
    {
     "name": "stdout",
     "output_type": "stream",
     "text": [
      "[[22.67521839 20.53937563 20.27614299]]\n"
     ]
    }
   ],
   "source": [
    "df2 = getInitialDataFrame()\n",
    "#print(df2.tail())\n",
    "df2['CalculatedSupplyTemp'] = 32\n",
    "df2['CalculatedSupplyTempT+1'] = 32\n",
    "df2['CalculatedSupplyTempT+2'] = 32 \n",
    "#print(df2.tail())\n",
    "df2 = normalizeDF(df2)\n",
    "\n",
    "current_x = df2.values[-1:, :-futureSteps]\n",
    "\n",
    "current_x3D = current_x.reshape((current_x.shape[0], 1,current_x.shape[1]))\n",
    "yhat = model.predict(current_x3D)\n",
    "inv_yhat = np.concatenate((current_x, yhat), axis=1)\n",
    "inv_yhat = scaler.inverse_transform(inv_yhat)\n",
    "print(inv_yhat[:,-3:])"
   ]
  },
  {
   "cell_type": "code",
   "execution_count": null,
   "metadata": {},
   "outputs": [],
   "source": []
  }
 ],
 "metadata": {
  "kernelspec": {
   "display_name": "Python 3",
   "language": "python",
   "name": "python3"
  },
  "language_info": {
   "codemirror_mode": {
    "name": "ipython",
    "version": 3
   },
   "file_extension": ".py",
   "mimetype": "text/x-python",
   "name": "python",
   "nbconvert_exporter": "python",
   "pygments_lexer": "ipython3",
   "version": "3.7.5"
  }
 },
 "nbformat": 4,
 "nbformat_minor": 4
}
