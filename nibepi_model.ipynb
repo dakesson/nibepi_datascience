{
 "cells": [
  {
   "cell_type": "markdown",
   "metadata": {},
   "source": [
    "## Nibe pi LSTM network\n",
    "Reads data from HA database and trains a LSTM net"
   ]
  },
  {
   "cell_type": "markdown",
   "metadata": {},
   "source": [
    "### Python's SQLite3 support\n"
   ]
  },
  {
   "cell_type": "markdown",
   "metadata": {},
   "source": [
    "This access method is very simple and perfect if you want to have a quick look at your data."
   ]
  },
  {
   "cell_type": "code",
   "execution_count": 89,
   "metadata": {},
   "outputs": [],
   "source": [
    "import sqlite3\n",
    "import pandas as pd\n",
    "\n",
    "import matplotlib.pyplot as plt\n",
    "import numpy as np\n",
    "import pytz\n",
    "from pytz import timezone\n",
    "import copy\n",
    "from math import sqrt\n",
    "from pysolar.solar import *\n",
    "import datetime\n",
    "\n",
    "import sklearn as sk\n",
    "from sklearn.preprocessing import MinMaxScaler\n",
    "from sklearn.preprocessing import LabelEncoder\n",
    "from sklearn.metrics import mean_squared_error\n",
    "from sklearn.metrics import mean_absolute_error\n",
    "from keras.models import Sequential\n",
    "from keras.layers import Dense\n",
    "from keras.layers import LSTM\n",
    "from keras.layers import Reshape\n",
    "from keras.layers import Flatten\n",
    "from keras.layers import Dropout\n",
    "from keras.layers import LeakyReLU\n",
    "from keras.callbacks import EarlyStopping\n",
    "from keras.optimizers import Adam\n",
    "from keras import losses"
   ]
  },
  {
   "cell_type": "code",
   "execution_count": 90,
   "metadata": {},
   "outputs": [],
   "source": [
    "import warnings\n",
    "warnings.filterwarnings('ignore')"
   ]
  },
  {
   "cell_type": "code",
   "execution_count": 91,
   "metadata": {},
   "outputs": [],
   "source": [
    "import mlflow.keras\n",
    "\n",
    "mlflow.keras.autolog()\n",
    "mlflow.set_tracking_uri('http://192.168.1.4:5000/')\n",
    "mlflow.set_experiment(\"nibe\")\n"
   ]
  },
  {
   "cell_type": "code",
   "execution_count": 92,
   "metadata": {},
   "outputs": [],
   "source": [
    "latitude_deg = 55.6915 # positive in the northern hemisphere\n",
    "longitude_deg = 13.230412 # negative reckoning west from prime meridian in Greenwich, England\n",
    "futureSteps = 12\n",
    "timestep = '15T'\n",
    "scaler = sk.preprocessing.MinMaxScaler()"
   ]
  },
  {
   "cell_type": "markdown",
   "metadata": {},
   "source": [
    "Create a connection to the database."
   ]
  },
  {
   "cell_type": "code",
   "execution_count": 93,
   "metadata": {},
   "outputs": [],
   "source": [
    "conn = sqlite3.connect('/home/homeassistant/.homeassistant/home-assistant_v2.db')"
   ]
  },
  {
   "cell_type": "code",
   "execution_count": 94,
   "metadata": {},
   "outputs": [],
   "source": [
    "def getDataFrame(sensor, mean=False):\n",
    "    df = pd.read_sql_query(\"SELECT state, last_changed FROM states WHERE entity_id = 'sensor.\" + sensor + \"' AND state != 'unknown'\", conn,index_col='last_changed', parse_dates=['last_changed'])\n",
    "    df['state'] = df['state'].astype(float)\n",
    "    if mean:\n",
    "        df = df.resample(timestep).mean()\n",
    "    else:\n",
    "        df = df.resample(timestep).last()\n",
    "\n",
    "    df = df.fillna(method='ffill')\n",
    "    return df\n",
    "\n"
   ]
  },
  {
   "cell_type": "code",
   "execution_count": 95,
   "metadata": {},
   "outputs": [],
   "source": [
    "#Group weathersymbols according to how much sun (yr.no)\n",
    "def updateWeather(dfWeatherSymbol):\n",
    "    resArray = []\n",
    "    sunIcons = [[1],[2],[3,40,5,41,42,7,43,44,8,45,24,6,25,26,20,27,28,21,29],[10,11,12,13,14,15,22,23,30,31,32,33,34,46,47,48,49,50,4,9]]\n",
    "    for icon in dfWeatherSymbol['state']:\n",
    "        res = -1\n",
    "        for i in range(4):\n",
    "            if icon in sunIcons[i]:\n",
    "                resArray.append(4-i)\n",
    "\n",
    "    dfWeatherSymbol['state'] = resArray\n",
    "    return dfWeatherSymbol"
   ]
  },
  {
   "cell_type": "code",
   "execution_count": 96,
   "metadata": {},
   "outputs": [],
   "source": [
    "def getInitialDataFrame():\n",
    "    dfIndoor = getDataFrame('downstairs_temperature')\n",
    "    dfOutdoor = getDataFrame('outdoor_temperature')\n",
    "    dfWeatherSymbol = updateWeather(getDataFrame('current_weather_symbol'))\n",
    "    dfPercipitation = getDataFrame('current_weather_precipitation')\n",
    "    dfWind = getDataFrame('current_weather_wind_speed')\n",
    "    dfCalculatedSupply = getDataFrame('nibe_offset_temperature')\n",
    "    dfSupply = getDataFrame('nibe_supply_temperature', mean=True)\n",
    "    dfReturn = getDataFrame('nibe_return_temperature', mean=True)\n",
    "    dfDT = dfSupply['state'] - dfReturn['state']\n",
    "\n",
    "    df = pd.DataFrame({'Indoor':dfIndoor['state'],\n",
    "            'IndoorDT':dfIndoor['state'].diff(),\n",
    "            'Outdoor':dfOutdoor['state'],\n",
    "            'Weather':dfWeatherSymbol['state'],\n",
    "#            'Rain':dfPercipitation['state'],\n",
    "#            'Wind':dfWind['state'],\n",
    "#            'CalculatedSupplyTemp':dfCalculatedSupply['state'],\n",
    "            'SupplyTemp':dfSupply['state'],\n",
    "            'dT':dfDT\n",
    "           })\n",
    "    \n",
    "    df = appendSolarFeature(df)\n",
    "#    df = appendPrevious(df, 'Indoor',12)\n",
    "#    df = appendPrevious(df, 'IndoorDT',12)\n",
    "#    df = appendPrevious(df, 'Outdoor',8)\n",
    "#    df = appendPrevious(df, 'Weather',8)\n",
    "#    df = appendPrevious(df, 'dT',8 )\n",
    "    df = appendWeatherForcast(df)\n",
    "    df = appendPrevious(df, 'SupplyTemp',8)\n",
    "    df = appendFuture(df, 'SupplyTemp', 8)\n",
    "    df = df.reindex(sorted(df.columns), axis=1)\n",
    "\n",
    "    #Indoor temp must be last, used for training\n",
    "    df = appendFuture(df, 'Indoor')\n",
    "\n",
    "    df = df.fillna(method='ffill')\n",
    "    return df\n"
   ]
  },
  {
   "cell_type": "code",
   "execution_count": 97,
   "metadata": {},
   "outputs": [],
   "source": [
    "#Get sun radiation\n",
    "def appendSolarFeature(df):\n",
    "    sunRadiationList = list()\n",
    "    altitudeList = list()\n",
    "    timeList = list()\n",
    "\n",
    "    for date in df.index:\n",
    "        localDate = pytz.utc.localize(date)\n",
    "        altitude_deg = get_altitude(latitude_deg, longitude_deg, localDate)\n",
    "        sunRadiationList.append(radiation.get_radiation_direct(date, altitude_deg))\n",
    "\n",
    "        if altitude_deg < 0:\n",
    "            altitude_deg = 0\n",
    "        altitudeList.append(altitude_deg)\n",
    "        \n",
    "        seconds  = (localDate - localDate.replace(hour=0, minute=0, second=0, microsecond=0)).total_seconds()\n",
    "        timeList.append(seconds)\n",
    "\n",
    "    df['SunRadiation'] = sunRadiationList\n",
    "    #df['SunAltitude'] =  altitudeList\n",
    "    df['time'] = timeList\n",
    "    return df"
   ]
  },
  {
   "cell_type": "code",
   "execution_count": 98,
   "metadata": {},
   "outputs": [],
   "source": [
    "def appendWeatherForcast(df):\n",
    "    dfTempForcastT1 = getDataFrame('weather_1_temperature')\n",
    "    dfTempForcastT2 = getDataFrame('weather_2_temperature')\n",
    "    dfTempForcastT3 = getDataFrame('weather_3_temperature')\n",
    "\n",
    "    dfSymbolForcastT1 = updateWeather(getDataFrame('weather_1_symbol'))\n",
    "    dfSymbolForcastT2 = updateWeather(getDataFrame('weather_2_symbol'))\n",
    "    dfSymbolForcastT3 = updateWeather(getDataFrame('weather_3_symbol'))\n",
    "    \n",
    "    dfWindForecastT1 = getDataFrame('weather_1_wind_speed')\n",
    "    dfWindForecastT2 = getDataFrame('weather_2_wind_speed')\n",
    "        \n",
    "    dataForecast = pd.DataFrame({\n",
    "        'TempForcast1':dfTempForcastT1['state'],\n",
    "        'TempForcast2':dfTempForcastT2['state'],\n",
    "#        'TempForcast3':dfTempForcastT3['state'],\n",
    "        'WeatherForcast1':dfSymbolForcastT1['state'],\n",
    "        'WeatherForcast2':dfSymbolForcastT2['state'],\n",
    "#        'WeatherForcast3':dfSymbolForcastT3['state']\n",
    "        'WindForcast1':dfWindForecastT1['state'],\n",
    "#        'WindForcast2':dfWindForecastT2['state']\n",
    "    })\n",
    "\n",
    "    df = pd.concat([dataForecast, df], axis=1)\n",
    "    df = df.fillna(method='ffill')\n",
    "    return df"
   ]
  },
  {
   "cell_type": "code",
   "execution_count": 99,
   "metadata": {},
   "outputs": [],
   "source": [
    "def appendPrevious(df, column, steps = 2):\n",
    "    for i in range(1, steps + 1):\n",
    "        df[column + 'T-' + str(i)] = df[column].shift(i)\n",
    "    return df"
   ]
  },
  {
   "cell_type": "code",
   "execution_count": 100,
   "metadata": {},
   "outputs": [],
   "source": [
    "def appendFuture(df, column, steps = futureSteps):\n",
    "    for i in range(1, steps + 1):\n",
    "        df[column + 'T+' + str(i)] = df[column].shift(-i)\n",
    "    return df"
   ]
  },
  {
   "cell_type": "code",
   "execution_count": 101,
   "metadata": {},
   "outputs": [],
   "source": [
    "#Use to find features to remove\n",
    "def findFeaturesToRemove(df):\n",
    "    current = train(df, hidden=55, nepochs=135)\n",
    "    print(current)\n",
    "    while True:\n",
    "        dropcol = \"\"\n",
    "        newdf = copy.deepcopy(df)\n",
    "        for col in newdf.columns[:-futureSteps]:\n",
    "            testdf = copy.deepcopy(newdf)\n",
    "            testdf.drop(columns=col)\n",
    "            result = train(testdf, hidden=55, nepochs=135)\n",
    "            print(col + \" \" + str(result))\n",
    "\n",
    "            if result < current:\n",
    "                current = result\n",
    "                dropcol = col\n",
    "                print(\"HIT!\")\n",
    "\n",
    "        print(\"---------------------\\n\" + str(current) + \" \" + dropcol)\n",
    "\n",
    "        if dropcol == \"\":\n",
    "            return newdf\n",
    "        else:\n",
    "            newdf.drop(columns=dropcol)"
   ]
  },
  {
   "cell_type": "code",
   "execution_count": 102,
   "metadata": {},
   "outputs": [],
   "source": [
    "def normalizeDF(df):\n",
    "    newdf = copy.deepcopy(df)\n",
    "    x = newdf.values\n",
    "    x_scaled = scaler.fit_transform(x)\n",
    "    newdf.values[:,:] = x_scaled\n",
    "    return newdf"
   ]
  },
  {
   "cell_type": "code",
   "execution_count": 103,
   "metadata": {},
   "outputs": [],
   "source": [
    "def splitData(df):\n",
    "    # split into train and test sets\n",
    "    values = df.values\n",
    "    n_train_hours = int(len(values)*0.75)\n",
    "    train = values[:n_train_hours, :]\n",
    "    test = values[n_train_hours:, :]\n",
    "    # split into input and outputs\n",
    "    train_x, train_y = train[:, :-futureSteps], train[:, -futureSteps:]\n",
    "    test_x, test_y = test[:, :-futureSteps], test[:, -futureSteps:]\n",
    "\n",
    "    return train_x, train_y, test_x, test_y"
   ]
  },
  {
   "cell_type": "code",
   "execution_count": 104,
   "metadata": {},
   "outputs": [],
   "source": [
    "def makePrediction(model, test_x):\n",
    "    yhat = model.predict(test_x)\n",
    "\n",
    "    # invert scaling for forecast\n",
    "    test_x_2 = removeTimeStepDim([test_x])[0]\n",
    "    inv_yhat = np.concatenate((test_x_2, yhat), axis=1)\n",
    "    inv_yhat = scaler.inverse_transform(inv_yhat)\n",
    "    \n",
    "    return inv_yhat"
   ]
  },
  {
   "cell_type": "code",
   "execution_count": 105,
   "metadata": {},
   "outputs": [],
   "source": [
    "def addTimestepDim(listOfVectors):\n",
    "    result = list()\n",
    "    for vector in listOfVectors:\n",
    "        result.append(vector.reshape(vector.shape[0],1,vector.shape[1]))\n",
    "        \n",
    "    return result"
   ]
  },
  {
   "cell_type": "code",
   "execution_count": 106,
   "metadata": {},
   "outputs": [],
   "source": [
    "def removeTimeStepDim(listOfVectors):\n",
    "    result = list()\n",
    "    for vector in listOfVectors:\n",
    "        result.append(vector.reshape(vector.shape[0],vector.shape[2]))\n",
    "\n",
    "    return result"
   ]
  },
  {
   "cell_type": "code",
   "execution_count": 107,
   "metadata": {},
   "outputs": [],
   "source": [
    "def train(train_x, train_y, test_x, test_y, plot = False, hidden = 32, nepochs = 100, lr=0.0006):\n",
    "    \n",
    "    # design network\n",
    "    model = Sequential()\n",
    "    model.add(LSTM(hidden, input_shape=(train_x.shape[1], train_x.shape[2])))\n",
    "#    model.add(LeakyReLU(alpha=0.5))\n",
    "#    model.add(Dropout(0.05))\n",
    "    model.add(Dense(futureSteps))\n",
    "\n",
    "    adam = Adam(lr=lr)\n",
    "    model.compile(loss='mae', optimizer=adam)\n",
    "    \n",
    "    # fit network\n",
    "    es = EarlyStopping(monitor='val_loss', mode='min', patience=50, restore_best_weights=True)\n",
    "    history = model.fit(train_x, train_y, epochs=nepochs, batch_size=32, validation_data=(test_x, test_y), verbose=0, shuffle=False, callbacks=[es])\n",
    "    \n",
    "    return model, history\n"
   ]
  },
  {
   "cell_type": "code",
   "execution_count": 113,
   "metadata": {},
   "outputs": [
    {
     "name": "stdout",
     "output_type": "stream",
     "text": [
      "RMSE: 0.32387515491800656\n",
      "Mean absolute error: 0.2549779330209522\n"
     ]
    },
    {
     "data": {
      "image/png": "[encoded data removed]",
      "text/plain": [
       "<Figure size 432x288 with 1 Axes>"
      ]
     },
     "metadata": {
      "needs_background": "light"
     },
     "output_type": "display_data"
    },
    {
     "data": {
      "text/plain": [
       "Text(0.5, 0, 'Hours since start')"
      ]
     },
     "execution_count": 113,
     "metadata": {},
     "output_type": "execute_result"
    },
    {
     "data": {
      "image/png": "[encoded data removed]",
      "text/plain": [
       "<Figure size 432x288 with 1 Axes>"
      ]
     },
     "metadata": {
      "needs_background": "light"
     },
     "output_type": "display_data"
    }
   ],
   "source": [
    "df = getInitialDataFrame()\n",
    "df = df.dropna()\n",
    "\n",
    "#Split data\n",
    "train_x, train_y, test_x, test_y = splitData(normalizeDF(df))\n",
    "train_x, test_x = addTimestepDim([train_x, test_x])\n",
    "\n",
    "#df = findFeaturesToRemove(df)\n",
    "\n",
    "model, history = train(train_x, train_y, test_x, test_y, plot=True, hidden=512, nepochs=1000, lr=0.0002)\n",
    "\n",
    "inv_yhat = makePrediction(model,test_x)\n",
    "inv_y = df.values[-inv_yhat.shape[0]:,-futureSteps:]\n",
    "\n",
    "rmse = sqrt(mean_squared_error(inv_y[:-futureSteps,-1], inv_yhat[:-futureSteps,-1]))\n",
    "mae = mean_absolute_error(inv_y[:-futureSteps,-1], inv_yhat[:-futureSteps,-1])\n",
    "\n",
    "print(\"RMSE: \" + str(rmse))\n",
    "print(\"Mean absolute error: \" + str(mae))\n",
    "\n",
    "# plot history\n",
    "plt.plot(history.history['loss'], label='train')\n",
    "plt.plot(history.history['val_loss'], label='test')\n",
    "plt.legend()\n",
    "plt.show()\n",
    "\n",
    "plt.plot(inv_y[:-futureSteps,-1], label='Actual temp')\n",
    "plt.plot(inv_yhat[:,-1], label='Gussed temp 3h')\n",
    "plt.legend()\n",
    "plt.xlabel('Hours since start')\n"
   ]
  },
  {
   "cell_type": "code",
   "execution_count": 109,
   "metadata": {},
   "outputs": [
    {
     "name": "stdout",
     "output_type": "stream",
     "text": [
      "\n",
      "RMSE from mean: \n",
      "0.8932342575857573\n",
      "\n",
      "Mean absolute error:\n",
      "0.6882186084502856\n"
     ]
    }
   ],
   "source": [
    "\n",
    "#dfDiff = abs(df['Indoor'].diff(3)).dropna()\n",
    "#print('Average temp diff for 3 timesteps: \\n' + str(dfDiff.mean()))\n",
    "\n",
    "rmse = sqrt(mean_squared_error(np.ones(df['Indoor'].shape[0])*df['Indoor'].mean(), df['Indoor']))\n",
    "print('\\nRMSE from mean: \\n' + str(rmse))\n",
    "\n",
    "print(\"\\nMean absolute error:\\n\" + str(mean_absolute_error(np.ones(df['Indoor'].shape[0])*df['Indoor'].mean(), df['Indoor'])))"
   ]
  },
  {
   "cell_type": "code",
   "execution_count": 110,
   "metadata": {},
   "outputs": [
    {
     "name": "stdout",
     "output_type": "stream",
     "text": [
      "[22.69612142 22.72138236 22.8270771  22.85980098 22.96430849 23.05553706\n",
      " 23.11352335 23.18725664 23.24566525 23.30055654 23.34156931 23.41551026]\n",
      "[22.69704039 22.72364972 22.82701285 22.85875817 22.96228902 23.05084318\n",
      " 23.10867365 23.17952398 23.24060891 23.29754012 23.34426987 23.41527967]\n",
      "[22.69796076 22.72591153 22.82700321 22.8577948  22.96036797 23.04627707\n",
      " 23.10395683 23.17194963 23.23566721 23.29465907 23.34708243 23.41513101]\n",
      "[22.69888214 22.72816873 22.82704746 22.85691161 22.95854375 23.04183654\n",
      " 23.09937203 23.16453123 23.23083795 23.29191105 23.35000394 23.41506355]\n",
      "[22.69980484 22.73042098 22.82714501 22.85610741 22.95681562 23.03751927\n",
      " 23.09491661 23.15726939 23.22612026 23.28929402 23.3530335  23.4150745 ]\n",
      "[22.70072885 22.73266855 22.82729557 22.85538193 22.9551824  23.03332481\n",
      " 23.09058868 23.15016072 23.22151239 23.28680506 23.3561707  23.41516226]\n",
      "[22.70165411 22.73491144 22.82749782 22.85473399 22.95364294 23.0292501\n",
      " 23.08638619 23.14320452 23.21701331 23.28444286 23.35941318 23.41532538]\n",
      "[22.70258039 22.73715054 22.8277525  22.85416446 22.95219693 23.0252944\n",
      " 23.08230783 23.13639916 23.21262127 23.2822042  23.3627589  23.41556195]\n",
      "[22.70350798 22.73938599 22.82805814 22.85367161 22.95084249 23.0214548\n",
      " 23.07835082 23.12974276 23.20833466 23.28008703 23.36620802 23.41587066]\n",
      "[22.7044371  22.74161735 22.8284146  22.85325571 22.94957918 23.01773041\n",
      " 23.07451369 23.12323414 23.20415159 23.27808903 23.36975848 23.41624903]\n",
      "[22.70536732 22.74384506 22.82882086 22.85291546 22.94840523 23.01411877\n",
      " 23.07079428 23.11687156 23.20007089 23.27620829 23.37340853 23.41669632]\n",
      "[22.70629856 22.7460697  22.82927677 22.8526507  22.94732036 23.01061898\n",
      " 23.06719066 23.11065339 23.19609197 23.27444131 23.37715716 23.41720991]\n",
      "[22.70723178 22.74829098 22.82978146 22.85246072 22.94632282 23.00722813\n",
      " 23.0637008  23.1045779  23.19221163 23.27278707 23.38100333 23.41778878]\n",
      "[22.70816587 22.75050935 22.83033448 22.85234491 22.94541261 23.00394476\n",
      " 23.0603228  23.09864377 23.18842927 23.27124235 23.38494501 23.41843147]\n",
      "[22.70910149 22.75272508 22.83093467 22.85230242 22.94458739 23.00076697\n",
      " 23.05705477 23.09284852 23.18474358 23.26980526 23.38898132 23.41913578]\n",
      "[22.71003872 22.75493862 22.83158217 22.85233323 22.9438473  22.99769345\n",
      " 23.05389465 23.08719141 23.18115311 23.2684733  23.39311036 23.41990025]\n",
      "[22.71097719 22.75714925 22.83227553 22.85243574 22.94319016 22.99472186\n",
      " 23.05084128 23.08166982 23.17765522 23.2672443  23.39733125 23.42072372]\n",
      "[22.71191727 22.75935753 22.83301445 22.85260967 22.94261582 22.99185059\n",
      " 23.04789188 23.07628301 23.17425006 23.26611636 23.40164341 23.42160371]\n",
      "[22.71285866 22.76156421 22.83379849 22.85285427 22.94212267 22.98907774\n",
      " 23.045045   23.07102822 23.17093486 23.26508596 23.40604392 23.42253977]\n",
      "[22.71380195 22.76376856 22.83462605 22.85316897 22.94170998 22.98640157\n",
      " 23.0422983  23.06590485 23.16770888 23.26415194 23.41053307 23.42352942]\n",
      "[22.71474677 22.76597086 22.83549742 22.85355288 22.94137689 22.98382018\n",
      " 23.03965075 23.06090985 23.16457125 23.26331197 23.41510823 23.42457136]\n",
      "[22.71569313 22.76817199 22.83641114 22.854005   22.94112235 22.98133209\n",
      " 23.03709943 23.05604219 23.16151875 23.26256298 23.41976897 23.42566484]\n",
      "[22.71664124 22.77037166 22.83736647 22.85452487 22.94094478 22.97893528\n",
      " 23.03464377 23.05130011 23.15855154 23.26190364 23.42451382 23.42680753]\n",
      "[22.7175911  22.77256943 22.83836343 22.85511148 22.94084387 22.97662798\n",
      " 23.03228098 23.04668157 23.15566728 23.26133091 23.42934133 23.42799798]\n",
      "[22.71775137 22.77293991 22.83853545 22.85521691 22.94083438 22.97624786\n",
      " 23.03189181 23.0459152  23.15518902 23.26124285 23.43016319 23.42820359]\n",
      "49\n"
     ]
    },
    {
     "data": {
      "text/plain": [
       "[<matplotlib.lines.Line2D at 0x7efcd6ce90d0>]"
      ]
     },
     "execution_count": 110,
     "metadata": {},
     "output_type": "execute_result"
    },
    {
     "data": {
      "image/png": "[encoded data removed]",
      "text/plain": [
       "<Figure size 432x288 with 1 Axes>"
      ]
     },
     "metadata": {
      "needs_background": "light"
     },
     "output_type": "display_data"
    }
   ],
   "source": [
    "updatedDf = getInitialDataFrame()\n",
    "\n",
    "goal = 22.5\n",
    "best = 100\n",
    "result = 0\n",
    "vectorRes = []\n",
    "\n",
    "#lastRow = df.iloc[:]\n",
    "\n",
    "for i in range(25,50,1):\n",
    "    updatedDf['SupplyTemp'][-1:] = i\n",
    "    updatedDf['SupplyTempT+1'][-1:] = i\n",
    "    updatedDf['SupplyTempT+2'][-1:] = i\n",
    "\n",
    "    updatedDf['SupplyTempT+1'][-2:] = i\n",
    "    updatedDf['SupplyTempT+2'][-2:] = i\n",
    "\n",
    "    updatedDf['SupplyTempT+2'][-2:] = i\n",
    "\n",
    "    current_x = normalizeDF(updatedDf).values[-1:, :-futureSteps]\n",
    "\n",
    "    inv_yhat = makePrediction(model, addTimestepDim([current_x])[0])\n",
    "    print(inv_yhat[-1,-futureSteps:])\n",
    "\n",
    "    rest = sum(abs(inv_yhat[-1,-futureSteps:] - goal))\n",
    "    if rest < best:\n",
    "        result = i\n",
    "        best = rest\n",
    "        vectorRes = inv_yhat[-1,-futureSteps:]\n",
    "\n",
    "plotX = np.insert(vectorRes, 0, df['Indoor'][-1]) \n",
    "\n",
    "\n",
    "print(result)\n",
    "plt.plot(plotX)        \n",
    "    "
   ]
  },
  {
   "cell_type": "code",
   "execution_count": null,
   "metadata": {},
   "outputs": [],
   "source": []
  },
  {
   "cell_type": "code",
   "execution_count": null,
   "metadata": {},
   "outputs": [],
   "source": []
  }
 ],
 "metadata": {
  "kernelspec": {
   "display_name": "Python 3",
   "language": "python",
   "name": "python3"
  },
  "language_info": {
   "codemirror_mode": {
    "name": "ipython",
    "version": 3
   },
   "file_extension": ".py",
   "mimetype": "text/x-python",
   "name": "python",
   "nbconvert_exporter": "python",
   "pygments_lexer": "ipython3",
   "version": "3.7.5"
  }
 },
 "nbformat": 4,
 "nbformat_minor": 4
}
