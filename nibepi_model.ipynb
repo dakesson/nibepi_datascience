{
 "cells": [
  {
   "cell_type": "markdown",
   "metadata": {},
   "source": [
    "## Nibe pi LSTM network\n",
    "Reads data from HA database and trains a LSTM net"
   ]
  },
  {
   "cell_type": "markdown",
   "metadata": {},
   "source": [
    "### Python's SQLite3 support\n"
   ]
  },
  {
   "cell_type": "markdown",
   "metadata": {},
   "source": [
    "This access method is very simple and perfect if you want to have a quick look at your data."
   ]
  },
  {
   "cell_type": "code",
   "execution_count": 16,
   "metadata": {},
   "outputs": [],
   "source": [
    "import sqlite3\n",
    "import pandas as pd\n",
    "\n",
    "import matplotlib.pyplot as plt\n",
    "import numpy as np\n",
    "import pytz\n",
    "from pytz import timezone\n",
    "import copy\n",
    "from math import sqrt\n",
    "from pysolar.solar import *\n",
    "import datetime\n",
    "\n",
    "import sklearn as sk\n",
    "from sklearn.preprocessing import MinMaxScaler\n",
    "from sklearn.preprocessing import LabelEncoder\n",
    "from sklearn.metrics import mean_squared_error\n",
    "from sklearn.metrics import mean_absolute_error\n",
    "from keras.models import Sequential\n",
    "from keras.layers import Dense\n",
    "from keras.layers import LSTM\n",
    "from keras.layers import Flatten\n",
    "from keras.layers import Dropout\n",
    "from keras.layers import LeakyReLU\n",
    "from keras.callbacks import EarlyStopping\n",
    "from keras.optimizers import Adam\n",
    "from keras import losses"
   ]
  },
  {
   "cell_type": "code",
   "execution_count": 17,
   "metadata": {},
   "outputs": [],
   "source": [
    "import mlflow.keras\n",
    "\n",
    "mlflow.keras.autolog()\n",
    "mlflow.set_tracking_uri('http://192.168.1.4:5000/')\n",
    "mlflow.set_experiment(\"nibe\")\n"
   ]
  },
  {
   "cell_type": "code",
   "execution_count": 18,
   "metadata": {},
   "outputs": [],
   "source": [
    "latitude_deg = 55.6915 # positive in the northern hemisphere\n",
    "longitude_deg = 13.230412 # negative reckoning west from prime meridian in Greenwich, England\n",
    "futureSteps = 3\n",
    "timestep = '60T'\n"
   ]
  },
  {
   "cell_type": "markdown",
   "metadata": {},
   "source": [
    "Create a connection to the database."
   ]
  },
  {
   "cell_type": "code",
   "execution_count": 4,
   "metadata": {},
   "outputs": [],
   "source": [
    "conn = sqlite3.connect('/home/homeassistant/.homeassistant/home-assistant_v2.db')"
   ]
  },
  {
   "cell_type": "code",
   "execution_count": 5,
   "metadata": {},
   "outputs": [],
   "source": [
    "def getDataFrame(sensor, mean=False):\n",
    "    df = pd.read_sql_query(\"SELECT state, last_changed FROM states WHERE entity_id = 'sensor.\" + sensor + \"' AND state != 'unknown'\", conn,index_col='last_changed', parse_dates=['last_changed'])\n",
    "    df['state'] = df['state'].astype(float)\n",
    "    if mean:\n",
    "        df = df.resample(timestep).mean()\n",
    "    else:\n",
    "        df = df.resample(timestep).last()\n",
    "\n",
    "    df = df.fillna(method='ffill')\n",
    "    return df\n",
    "\n"
   ]
  },
  {
   "cell_type": "code",
   "execution_count": 6,
   "metadata": {},
   "outputs": [],
   "source": [
    "#Group weathersymbols according to how much sun (yr.no)\n",
    "def updateWeather(dfWeatherSymbol):\n",
    "    resArray = []\n",
    "    sunIcons = [[1],[2],[3,40,5,41,42,7,43,44,8,45,24,6,25,26,20,27,28,21,29],[10,11,12,13,14,15,22,23,30,31,32,33,34,46,47,48,49,50,4,9]]\n",
    "    for icon in dfWeatherSymbol['state']:\n",
    "        res = -1\n",
    "        for i in range(4):\n",
    "            if icon in sunIcons[i]:\n",
    "                resArray.append(4-i)\n",
    "\n",
    "    dfWeatherSymbol['state'] = resArray\n",
    "    return dfWeatherSymbol"
   ]
  },
  {
   "cell_type": "code",
   "execution_count": 7,
   "metadata": {},
   "outputs": [],
   "source": [
    "def getInitialDataFrame():\n",
    "    dfIndoor = getDataFrame('downstairs_temperature')\n",
    "    dfOutdoor = getDataFrame('outdoor_temperature')\n",
    "    dfWeatherSymbol = updateWeather(getDataFrame('current_weather_symbol'))\n",
    "    dfPercipitation = getDataFrame('current_weather_precipitation')\n",
    "    dfWind = getDataFrame('current_weather_wind_speed')\n",
    "    dfCalculatedSupply = getDataFrame('nibe_calculated_supply_temperature', mean=True)\n",
    "    dfSupply = getDataFrame('nibe_supply_temperature', mean=True)\n",
    "    dfReturn = getDataFrame('nibe_return_temperature', mean=True)\n",
    "    dfDT = dfSupply['state'] - dfReturn['state']\n",
    "\n",
    "    return pd.DataFrame({'Indoor':dfIndoor['state'],\n",
    "            'IndoorDT':dfIndoor['state'].diff(),\n",
    "            'Outdoor':dfOutdoor['state'],\n",
    "            'Weather':dfWeatherSymbol['state'],\n",
    "#            'Rain':dfPercipitation['state'],\n",
    "#            'Wind':dfWind['state'],\n",
    "            'CalculatedSupplyTemp':dfCalculatedSupply['state'],\n",
    "            'SupplyTemp':dfSupply['state'],\n",
    "            'dT':dfDT\n",
    "           })\n"
   ]
  },
  {
   "cell_type": "code",
   "execution_count": 8,
   "metadata": {},
   "outputs": [],
   "source": [
    "#Get sun radiation\n",
    "def appendSolarFeature(df):\n",
    "    stockholm = timezone('Europe/Stockholm')\n",
    "\n",
    "    sunRadiationList = list()\n",
    "    altitudeList = list()\n",
    "    timeList = list()\n",
    "\n",
    "    for date in df.index:\n",
    "        localDate = stockholm.localize(date)\n",
    "        altitude_deg = get_altitude(latitude_deg, longitude_deg, localDate)\n",
    "        sunRadiationList.append(radiation.get_radiation_direct(date, altitude_deg))\n",
    "\n",
    "        if altitude_deg < 0:\n",
    "            altitude_deg = 0\n",
    "        altitudeList.append(altitude_deg)\n",
    "        \n",
    "        seconds  = (localDate - localDate.replace(hour=0, minute=0, second=0, microsecond=0)).total_seconds()\n",
    "        timeList.append(seconds)\n",
    "\n",
    "    df['SunRadiation'] = sunRadiationList\n",
    "    #df['SunAltitude'] =  altitudeList\n",
    "    df['time'] = timeList\n",
    "    return df"
   ]
  },
  {
   "cell_type": "code",
   "execution_count": 9,
   "metadata": {},
   "outputs": [],
   "source": [
    "def appendWeatherForcast(df):\n",
    "    dfTempForcastT1 = getDataFrame('weather_1_temperature')\n",
    "    dfTempForcastT2 = getDataFrame('weather_2_temperature')\n",
    "    dfTempForcastT3 = getDataFrame('weather_3_temperature')\n",
    "\n",
    "    dfSymbolForcastT1 = updateWeather(getDataFrame('weather_1_symbol'))\n",
    "    dfSymbolForcastT2 = updateWeather(getDataFrame('weather_2_symbol'))\n",
    "    dfSymbolForcastT3 = updateWeather(getDataFrame('weather_3_symbol'))\n",
    "    \n",
    "    dfWindForecastT1 = getDataFrame('weather_1_wind_speed')\n",
    "    dfWindForecastT2 = getDataFrame('weather_2_wind_speed')\n",
    "        \n",
    "    dataForecast = pd.DataFrame({\n",
    "        'TempForcast1':dfTempForcastT1['state'],\n",
    "        'TempForcast2':dfTempForcastT2['state'],\n",
    "#        'TempForcast3':dfTempForcastT3['state'],\n",
    "        'WeatherForcast1':dfSymbolForcastT1['state'],\n",
    "        'WeatherForcast2':dfSymbolForcastT2['state'],\n",
    "#        'WeatherForcast3':dfSymbolForcastT3['state']\n",
    "        'WindForcast1':dfWindForecastT1['state'],\n",
    "#        'WindForcast2':dfWindForecastT2['state']\n",
    "    })\n",
    "\n",
    "    df = pd.concat([dataForecast, df], axis=1)\n",
    "    df = df.fillna(method='ffill')\n",
    "    return df"
   ]
  },
  {
   "cell_type": "code",
   "execution_count": 10,
   "metadata": {},
   "outputs": [],
   "source": [
    "def appendPrevious(df, column, steps = 2):\n",
    "    for i in range(1, steps + 1):\n",
    "        df[column + 'T-' + str(i)] = df[column].shift(i)\n",
    "    return df"
   ]
  },
  {
   "cell_type": "code",
   "execution_count": 11,
   "metadata": {},
   "outputs": [],
   "source": [
    "def appendFuture(df, column, steps = futureSteps):\n",
    "    for i in range(1, steps + 1):\n",
    "        df[column + 'T+' + str(i)] = df[column].shift(-i)\n",
    "    return df"
   ]
  },
  {
   "cell_type": "code",
   "execution_count": 12,
   "metadata": {},
   "outputs": [],
   "source": [
    "def train(df, plot = False, hidden = 50, nepochs = 100, lr=0.0006):\n",
    "# Normalize data\n",
    "    x = df.values #returns a numpy array\n",
    "    scaler = sk.preprocessing.MinMaxScaler()\n",
    "    x_scaled = scaler.fit_transform(x)\n",
    "    df = pd.DataFrame(x_scaled)\n",
    "\n",
    "    # split into train and test sets\n",
    "    values = df.values\n",
    "    n_train_hours = int(len(values)*0.7)\n",
    "    train = values[:n_train_hours, :]\n",
    "    test = values[n_train_hours:, :]\n",
    "    # split into input and outputs\n",
    "    train_X, train_y = train[:, :-futureSteps], train[:, -futureSteps:]\n",
    "    test_X, test_y = test[:, :-futureSteps], test[:, -futureSteps:]\n",
    "    # reshape input to be 3D [samples, timesteps, features]\n",
    "    train_X = train_X.reshape((train_X.shape[0], 1, train_X.shape[1]))\n",
    "    test_X = test_X.reshape((test_X.shape[0], 1, test_X.shape[1]))\n",
    "\n",
    "    # design network\n",
    "    model = Sequential()\n",
    "    model.add(LSTM(hidden, input_shape=(train_X.shape[1], train_X.shape[2])))\n",
    "#    model.add(LeakyReLU(alpha=0.5))\n",
    "#    model.add(Dropout(0.05))\n",
    "    model.add(Dense(futureSteps))\n",
    "\n",
    "    adam = Adam(lr=lr)\n",
    "    model.compile(loss='mae', optimizer=adam)\n",
    "    # fit network\n",
    "    es = EarlyStopping(monitor='val_loss', mode='min', patience=50, restore_best_weights=True)\n",
    "    history = model.fit(train_X, train_y, epochs=nepochs, batch_size=32, validation_data=(test_X, test_y), verbose=0, shuffle=False, callbacks=[es])\n",
    "\n",
    "    # make a prediction\n",
    "    yhat = model.predict(test_X)\n",
    "    test_X2 = test_X.reshape((test_X.shape[0], test_X.shape[2]))\n",
    "\n",
    "    # invert scaling for forecast\n",
    "    inv_yhat = np.concatenate((test_X2, yhat), axis=1)\n",
    "    inv_yhat = scaler.inverse_transform(inv_yhat)\n",
    "\n",
    "    # invert scaling for actual\n",
    "    test_y2 = test_y.reshape((test_y.shape[0], test_y.shape[1]))\n",
    "    inv_y = np.concatenate((test_X2,test_y2), axis=1)\n",
    "    inv_y = scaler.inverse_transform(inv_y)\n",
    "\n",
    "    rmse = sqrt(mean_squared_error(inv_y[:,-1], inv_yhat[:,-1]))\n",
    "    \n",
    "    if not plot:\n",
    "        return(rmse)\n",
    "    \n",
    "    print(\"RMSE: \" + str(rmse))\n",
    "    print(\"Mean absolute error: \" + str(mean_absolute_error(inv_y[:,-1], inv_yhat[:,-1])))\n",
    "    \n",
    "    # plot history\n",
    "    plt.plot(history.history['loss'], label='train')\n",
    "    plt.plot(history.history['val_loss'], label='test')\n",
    "    plt.legend()\n",
    "    plt.show()\n",
    "    \n",
    "    plt.plot(inv_y[:,-1], label='Actual temp')\n",
    "    plt.plot(inv_yhat[:,-1], label='Gussed temp 3h')\n",
    "    plt.legend()\n",
    "    plt.xlabel('Hours since start')"
   ]
  },
  {
   "cell_type": "code",
   "execution_count": 13,
   "metadata": {},
   "outputs": [],
   "source": [
    "#Use to find features to remove\n",
    "def findFeaturesToRemove(df):\n",
    "    current = train(df, hidden=55, nepochs=135)\n",
    "    print(current)\n",
    "    while True:\n",
    "        dropcol = \"\"\n",
    "        newdf = copy.deepcopy(df)\n",
    "        for col in newdf.columns[:-futureSteps]:\n",
    "            testdf = copy.deepcopy(newdf)\n",
    "            testdf.drop(columns=col)\n",
    "            result = train(testdf, hidden=55, nepochs=135)\n",
    "            print(col + \" \" + str(result))\n",
    "\n",
    "            if result < current:\n",
    "                current = result\n",
    "                dropcol = col\n",
    "                print(\"HIT!\")\n",
    "\n",
    "        print(\"---------------------\\n\" + str(current) + \" \" + dropcol)\n",
    "\n",
    "        if dropcol == \"\":\n",
    "            return newdf\n",
    "        else:\n",
    "            newdf.drop(columns=dropcol)"
   ]
  },
  {
   "cell_type": "code",
   "execution_count": 15,
   "metadata": {},
   "outputs": [
    {
     "name": "stderr",
     "output_type": "stream",
     "text": [
      "/root/lib/python3.7/site-packages/pysolar/solartime.py:112: UserWarning: I don't know about leap seconds after 2018\n",
      "  (leap_seconds_base_year + len(leap_seconds_adjustments) - 1)\n",
      "/root/lib/python3.7/site-packages/mlflow/utils/autologging_utils.py:60: DeprecationWarning: inspect.getargspec() is deprecated since Python 3.0, use inspect.signature() or inspect.getfullargspec()\n",
      "  all_param_names, _, _, all_default_values = inspect.getargspec(fn)  # pylint: disable=W1505\n"
     ]
    },
    {
     "name": "stdout",
     "output_type": "stream",
     "text": [
      "RMSE: 0.2908913155957231\n",
      "Mean absolute error: 0.21422270618254927\n"
     ]
    },
    {
     "data": {
      "image/png": "[encoded data removed]",
      "text/plain": [
       "<Figure size 432x288 with 1 Axes>"
      ]
     },
     "metadata": {
      "needs_background": "light"
     },
     "output_type": "display_data"
    },
    {
     "data": {
      "image/png": "[encoded data removed]",
      "text/plain": [
       "<Figure size 432x288 with 1 Axes>"
      ]
     },
     "metadata": {
      "needs_background": "light"
     },
     "output_type": "display_data"
    }
   ],
   "source": [
    "df = getInitialDataFrame()\n",
    "df = appendSolarFeature(df)\n",
    "df = appendPrevious(df, 'Indoor',3)\n",
    "df = appendPrevious(df, 'IndoorDT',3)\n",
    "df = appendPrevious(df, 'Outdoor',2)\n",
    "df = appendPrevious(df, 'Weather',2)\n",
    "df = appendPrevious(df, 'dT',2 )\n",
    "df = appendWeatherForcast(df)\n",
    "df = appendPrevious(df, 'CalculatedSupplyTemp',2)\n",
    "df = appendFuture(df, 'CalculatedSupplyTemp', 2)\n",
    "df = df.reindex(sorted(df.columns), axis=1)\n",
    "\n",
    "#Indoor temp must be last, used for training\n",
    "df = appendFuture(df, 'Indoor')\n",
    "\n",
    "df = df.fillna(method='ffill')\n",
    "df = df.dropna()\n",
    "\n",
    "#df = findFeaturesToRemove(df)\n",
    "\n",
    "train(df, plot=True, hidden=128, nepochs=1000, lr=0.0006)\n"
   ]
  },
  {
   "cell_type": "code",
   "execution_count": 34,
   "metadata": {},
   "outputs": [
    {
     "name": "stdout",
     "output_type": "stream",
     "text": [
      "Average temp diff for 3 timesteps: \n",
      "0.38943089430894307\n",
      "\n",
      "RMSE from mean: \n",
      "0.7386163442316078\n"
     ]
    }
   ],
   "source": [
    "\n",
    "dfDiff = abs(df['Indoor'].diff(3)).dropna()\n",
    "print('Average temp diff for 3 timesteps: \\n' + str(dfDiff.mean()))\n",
    "\n",
    "rmse = sqrt(mean_squared_error(np.ones(df['Indoor'].shape[0])*df['Indoor'].mean(), df['Indoor']))\n",
    "print('\\nRMSE from mean: \\n' + str(rmse))"
   ]
  },
  {
   "cell_type": "code",
   "execution_count": null,
   "metadata": {},
   "outputs": [],
   "source": []
  },
  {
   "cell_type": "code",
   "execution_count": null,
   "metadata": {},
   "outputs": [],
   "source": []
  }
 ],
 "metadata": {
  "kernelspec": {
   "display_name": "Python 3",
   "language": "python",
   "name": "python3"
  },
  "language_info": {
   "codemirror_mode": {
    "name": "ipython",
    "version": 3
   },
   "file_extension": ".py",
   "mimetype": "text/x-python",
   "name": "python",
   "nbconvert_exporter": "python",
   "pygments_lexer": "ipython3",
   "version": "3.7.5"
  }
 },
 "nbformat": 4,
 "nbformat_minor": 4
}
